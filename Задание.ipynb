{
  "nbformat": 4,
  "nbformat_minor": 0,
  "metadata": {
    "colab": {
      "provenance": [],
      "collapsed_sections": [],
      "toc_visible": true,
      "authorship_tag": "ABX9TyNvaj41mNs+jnbtW7ESvqhz",
      "include_colab_link": true
    },
    "kernelspec": {
      "name": "python3",
      "display_name": "Python 3"
    },
    "language_info": {
      "name": "python"
    }
  },
  "cells": [
    {
      "cell_type": "markdown",
      "metadata": {
        "id": "view-in-github",
        "colab_type": "text"
      },
      "source": [
        "<a href=\"https://colab.research.google.com/github/RailyaR/task/blob/main/%D0%97%D0%B0%D0%B4%D0%B0%D0%BD%D0%B8%D0%B5.ipynb\" target=\"_parent\"><img src=\"https://colab.research.google.com/assets/colab-badge.svg\" alt=\"Open In Colab\"/></a>"
      ]
    },
    {
      "cell_type": "code",
      "source": [
        "import pandas as pd\n",
        "\n",
        "def group_count(n_customers, start, return_df = True):\n",
        "    start=0\n",
        "    customer_ids = range(start, start + n_customers)\n",
        "\n",
        "    groups = {}\n",
        "    for id in customer_ids:\n",
        "        # Создаем список с цифрами\n",
        "        # содержащимися в id\n",
        "        id_digits = list(map(int, list(str(id))))\n",
        "        group_id = sum(id_digits)\n",
        "        # Обновляем наш словарь с количеством клиентов\n",
        "        # для каждой группы\n",
        "        groups[group_id] = groups.get(group_id, 0) + 1\n",
        "\n",
        "    if return_df:\n",
        "        return pd.DataFrame(columns = ['group', 'n_customers'], data=groups.items())\n",
        "    else:\n",
        "        return groups\n",
        "\n",
        "group_count(20, 2)"
      ],
      "metadata": {
        "id": "8ieq5qvykow0"
      },
      "execution_count": null,
      "outputs": []
    },
    {
      "cell_type": "code",
      "source": [
        "import pandas as pd\n",
        "\n",
        "def group_count(n_customers, start, return_df = True):\n",
        "    customer_ids = range(start, start + n_customers)\n",
        "\n",
        "    groups = {}\n",
        "    for id in customer_ids:\n",
        "        # Создаем список с цифрами\n",
        "        # содержащимися в id\n",
        "        id_digits = list(map(int, list(str(id))))\n",
        "        group_id = sum(id_digits)\n",
        "        # Обновляем наш словарь с количеством клиентов\n",
        "        # для каждой группы\n",
        "        groups[group_id] = groups.get(group_id, 0) + 1\n",
        "\n",
        "    if return_df:\n",
        "        return pd.DataFrame(columns = ['group', 'n_customers'], data=groups.items())\n",
        "    else:\n",
        "        return groups\n",
        "\n",
        "group_count(20, 2)"
      ],
      "metadata": {
        "id": "WnSMT9QCki-U"
      },
      "execution_count": null,
      "outputs": []
    }
  ]
}